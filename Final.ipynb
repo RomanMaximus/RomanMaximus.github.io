{
 "cells": [
  {
   "cell_type": "markdown",
   "id": "e2354da4-237c-4477-b826-78874966d936",
   "metadata": {},
   "source": [
    "# Motivation\n",
    "In tennis tall players are sterotypically considered big servers and bad returners. But I want to find out if there really is a relation between height with both serving and returning statistics. When you think of the great servers the names that come to mind are John Isner, Kalovic who are considered tall for tennis, but you also think of players like Pete Samprus and Rodger Federer who are not especially tall for professional tennis players. This leads me to question whether there is a real relation between height and serving in professioal tennis or whether it is an old sterotype of tennis that is still around, based on observation and not statistics. I don't only want to answer whether they are bigger serves, as they can serve it faster, but if they are more effective servers, do they win more service points then other player. There is also the idea in tennis that tall players are not as good at returning. There are example on both sides of this that I can thinks of. Like John Isner is tall and not a very good returner, but on the other hand Del Potro was a tall player and a good returner. Once again I want to see if there is any statistical evidence for these claims. These observations in themselves are no evidence for or against the claim, but they did spark my interest to look deeper into this idea. Then if there is a relation between both serving and returning with height, whether it is a good trade off or bad tradeoff by seeing what the relation with height and win rate is. This would be good to know when deciding who to look at for tennis prospects. It would be important to know for tennis coaches to know the effect height has on a players ability to both serve and return. It is also important to look at the data in sports and not get distracted by the flare of a player. Some one may have a big serve, and watching him would be impressive, but that doesn't mean they win service point more often. I feel that it is very common to make judgements on sport based on appearance and not on data, and that is why I want to take a data driven players serving abilities versus their height."
   ]
  },
  {
   "cell_type": "markdown",
   "id": "b4b21d43-0d55-485e-b995-988526e44d73",
   "metadata": {},
   "source": [
    "# Background\n",
    "I want to go over some of the basics of tennis first so you will be able to better understand what I am going to be talking about. If you want a more in depth look at the rules of tennis you can look here http://protennistips.net/tennis-rules/. If you want to learn more about tennis in general and playing tennis you can look at the USTA site here https://www.usta.com/. Now I will go over a brief summary of things I think you should know to understancd what I am talking about. First if you could look at this diagram of a court so you will know the terminology https://tenniscompanion.org/a-diagram-of-tennis-court-dimensions-layout/. A tennis match consists either of a best of 3 or 5 sets. A set consists of best of 6 games win by 2, but if you get to 6 all you play a tie break. For each game you have one player serving and one returning. A game is first to four points win by 2. Players alternate serve each game. A serve is the shot that starts a point where one player standing behing the baseline hits it into diagonal service box of the opponent. You get two serves in tennis, so if the 1st serve goes out you have one more chance before losing a point. If they miss the second serve then they lose a point. After each serve players switch which service box is being served to. <br>\n",
    "\n",
    "<u>Terminology</u>: <br>\n",
    "<u>Double Fault:</u> If you hit 1st and 2nd serve out that is called a double fault <br>\n",
    "<u>Ace</u>: If the server hit his serve in and it goes untouched by the returner <br>\n",
    "<u>Break Point</u>: If the returner is one point from winning the game <br>\n"
   ]
  },
  {
   "cell_type": "markdown",
   "id": "40199a4c-8a03-4a3a-a990-28e40cdc0580",
   "metadata": {},
   "source": [
    "# Getting the Data\n",
    "The data I will be looking at is from https://github.com/JeffSackmann/tennis_atp. The data has the atp matches for every year from 1968 until the current year. I will only be looking at 2015 and after since I want to look at the most reason data as the game evolves over the years and serving now is not the same as it was earlier. As both the form and the racquet technology has changes, and I thought 6 years of match data would be enough to look at. I will be exluding the 2022 data as the year is not over yet. For this I will only be looking at the atp tour level players and not challengers and below. Challengers is like the AAA league in baseball, where they are pro players but not the highest level so I thought it would be more insightful to only look at the highest level players."
   ]
  },
  {
   "cell_type": "code",
   "execution_count": 184,
   "id": "c04adf84-3a0e-413c-bb00-860da3d0f101",
   "metadata": {},
   "outputs": [],
   "source": [
    "import pandas as pd\n",
    "import numpy as np\n",
    "import statsmodels.api as stats\n",
    "from matplotlib import pyplot as plt \n",
    "import csv"
   ]
  },
  {
   "cell_type": "code",
   "execution_count": 185,
   "id": "35765bb7-6613-4be3-afd2-ef35f7a9f04a",
   "metadata": {},
   "outputs": [],
   "source": [
    "data2015 = pd.read_csv('data/atp_matches_2015.csv')\n",
    "data2014 = pd.read_csv('data/atp_matches_2014.csv') \n",
    "data2016 = pd.read_csv('data/atp_matches_2016.csv') \n",
    "data2017 = pd.read_csv('data/atp_matches_2017.csv') \n",
    "data2018 = pd.read_csv('data/atp_matches_2018.csv') \n",
    "data2019 = pd.read_csv('data/atp_matches_2019.csv') \n",
    "data2020 = pd.read_csv('data/atp_matches_2020.csv') \n",
    "data2021 = pd.read_csv('data/atp_matches_2021.csv') \n",
    "data = pd.concat([data2015,data2016,data2017,data2019,data2020,data2021])"
   ]
  },
  {
   "cell_type": "markdown",
   "id": "9931fbd9-a4a9-492d-83fb-ae8a8a293d31",
   "metadata": {},
   "source": [
    "The tour level match data that we are looking at includes Davis cup, which is not part of the ATP tour technically so I do not want to look at matches for that so I removed "
   ]
  },
  {
   "cell_type": "code",
   "execution_count": 186,
   "id": "f381645c-3ef4-459e-a23f-474327374d57",
   "metadata": {},
   "outputs": [],
   "source": [
    "data = data[data['tourney_level'] != 'D']\n",
    "data = data[['w_1stIn','w_1stWon','l_1stIn', 'l_1stWon','winner_name','loser_name','loser_ht','w_ace','w_svpt','winner_ht',\n",
    "             'w_2ndWon','w_bpFaced','w_bpSaved','l_ace','l_2ndWon','l_bpSaved','l_bpFaced','l_svpt']]"
   ]
  },
  {
   "cell_type": "markdown",
   "id": "52c92512-3b18-4cd5-a70a-e93b26ad4347",
   "metadata": {},
   "source": [
    "Now that I have loaded in the data I will first take a quick look at it to show what the data I'm dealing with looks like. Then I will look for missing data and try to fill it in by either finding the information somewhere else or come up with a method to fill it in."
   ]
  },
  {
   "cell_type": "code",
   "execution_count": 187,
   "id": "df8c0a76-b72d-44df-941b-4e5b0b391af9",
   "metadata": {},
   "outputs": [
    {
     "data": {
      "text/html": [
       "<div>\n",
       "<style scoped>\n",
       "    .dataframe tbody tr th:only-of-type {\n",
       "        vertical-align: middle;\n",
       "    }\n",
       "\n",
       "    .dataframe tbody tr th {\n",
       "        vertical-align: top;\n",
       "    }\n",
       "\n",
       "    .dataframe thead th {\n",
       "        text-align: right;\n",
       "    }\n",
       "</style>\n",
       "<table border=\"1\" class=\"dataframe\">\n",
       "  <thead>\n",
       "    <tr style=\"text-align: right;\">\n",
       "      <th></th>\n",
       "      <th>w_1stIn</th>\n",
       "      <th>w_1stWon</th>\n",
       "      <th>l_1stIn</th>\n",
       "      <th>l_1stWon</th>\n",
       "      <th>winner_name</th>\n",
       "      <th>loser_name</th>\n",
       "      <th>loser_ht</th>\n",
       "      <th>w_ace</th>\n",
       "      <th>w_svpt</th>\n",
       "      <th>winner_ht</th>\n",
       "      <th>w_2ndWon</th>\n",
       "      <th>w_bpFaced</th>\n",
       "      <th>w_bpSaved</th>\n",
       "      <th>l_ace</th>\n",
       "      <th>l_2ndWon</th>\n",
       "      <th>l_bpSaved</th>\n",
       "      <th>l_bpFaced</th>\n",
       "      <th>l_svpt</th>\n",
       "    </tr>\n",
       "  </thead>\n",
       "  <tbody>\n",
       "    <tr>\n",
       "      <th>0</th>\n",
       "      <td>24.0</td>\n",
       "      <td>19.0</td>\n",
       "      <td>31.0</td>\n",
       "      <td>20.0</td>\n",
       "      <td>John Millman</td>\n",
       "      <td>Rhyne Williams</td>\n",
       "      <td>NaN</td>\n",
       "      <td>6.0</td>\n",
       "      <td>44.0</td>\n",
       "      <td>183.0</td>\n",
       "      <td>14.0</td>\n",
       "      <td>1.0</td>\n",
       "      <td>1.0</td>\n",
       "      <td>3.0</td>\n",
       "      <td>5.0</td>\n",
       "      <td>1.0</td>\n",
       "      <td>5.0</td>\n",
       "      <td>50.0</td>\n",
       "    </tr>\n",
       "    <tr>\n",
       "      <th>1</th>\n",
       "      <td>59.0</td>\n",
       "      <td>39.0</td>\n",
       "      <td>50.0</td>\n",
       "      <td>26.0</td>\n",
       "      <td>Jarkko Nieminen</td>\n",
       "      <td>Denis Kudla</td>\n",
       "      <td>180.0</td>\n",
       "      <td>4.0</td>\n",
       "      <td>92.0</td>\n",
       "      <td>185.0</td>\n",
       "      <td>17.0</td>\n",
       "      <td>7.0</td>\n",
       "      <td>4.0</td>\n",
       "      <td>6.0</td>\n",
       "      <td>19.0</td>\n",
       "      <td>3.0</td>\n",
       "      <td>8.0</td>\n",
       "      <td>83.0</td>\n",
       "    </tr>\n",
       "    <tr>\n",
       "      <th>2</th>\n",
       "      <td>27.0</td>\n",
       "      <td>20.0</td>\n",
       "      <td>37.0</td>\n",
       "      <td>22.0</td>\n",
       "      <td>James Duckworth</td>\n",
       "      <td>Gilles Simon</td>\n",
       "      <td>183.0</td>\n",
       "      <td>4.0</td>\n",
       "      <td>45.0</td>\n",
       "      <td>183.0</td>\n",
       "      <td>11.0</td>\n",
       "      <td>3.0</td>\n",
       "      <td>2.0</td>\n",
       "      <td>2.0</td>\n",
       "      <td>5.0</td>\n",
       "      <td>10.0</td>\n",
       "      <td>15.0</td>\n",
       "      <td>56.0</td>\n",
       "    </tr>\n",
       "    <tr>\n",
       "      <th>3</th>\n",
       "      <td>39.0</td>\n",
       "      <td>31.0</td>\n",
       "      <td>38.0</td>\n",
       "      <td>30.0</td>\n",
       "      <td>Jeremy Chardy</td>\n",
       "      <td>Andrey Golubev</td>\n",
       "      <td>185.0</td>\n",
       "      <td>7.0</td>\n",
       "      <td>53.0</td>\n",
       "      <td>188.0</td>\n",
       "      <td>11.0</td>\n",
       "      <td>0.0</td>\n",
       "      <td>0.0</td>\n",
       "      <td>9.0</td>\n",
       "      <td>8.0</td>\n",
       "      <td>1.0</td>\n",
       "      <td>3.0</td>\n",
       "      <td>57.0</td>\n",
       "    </tr>\n",
       "    <tr>\n",
       "      <th>4</th>\n",
       "      <td>79.0</td>\n",
       "      <td>55.0</td>\n",
       "      <td>62.0</td>\n",
       "      <td>40.0</td>\n",
       "      <td>Martin Klizan</td>\n",
       "      <td>Jurgen Melzer</td>\n",
       "      <td>183.0</td>\n",
       "      <td>9.0</td>\n",
       "      <td>130.0</td>\n",
       "      <td>190.0</td>\n",
       "      <td>27.0</td>\n",
       "      <td>8.0</td>\n",
       "      <td>6.0</td>\n",
       "      <td>4.0</td>\n",
       "      <td>19.0</td>\n",
       "      <td>4.0</td>\n",
       "      <td>8.0</td>\n",
       "      <td>95.0</td>\n",
       "    </tr>\n",
       "    <tr>\n",
       "      <th>...</th>\n",
       "      <td>...</td>\n",
       "      <td>...</td>\n",
       "      <td>...</td>\n",
       "      <td>...</td>\n",
       "      <td>...</td>\n",
       "      <td>...</td>\n",
       "      <td>...</td>\n",
       "      <td>...</td>\n",
       "      <td>...</td>\n",
       "      <td>...</td>\n",
       "      <td>...</td>\n",
       "      <td>...</td>\n",
       "      <td>...</td>\n",
       "      <td>...</td>\n",
       "      <td>...</td>\n",
       "      <td>...</td>\n",
       "      <td>...</td>\n",
       "      <td>...</td>\n",
       "    </tr>\n",
       "    <tr>\n",
       "      <th>2593</th>\n",
       "      <td>43.0</td>\n",
       "      <td>33.0</td>\n",
       "      <td>25.0</td>\n",
       "      <td>16.0</td>\n",
       "      <td>Cameron Norrie</td>\n",
       "      <td>Denis Shapovalov</td>\n",
       "      <td>185.0</td>\n",
       "      <td>1.0</td>\n",
       "      <td>54.0</td>\n",
       "      <td>188.0</td>\n",
       "      <td>4.0</td>\n",
       "      <td>1.0</td>\n",
       "      <td>1.0</td>\n",
       "      <td>3.0</td>\n",
       "      <td>7.0</td>\n",
       "      <td>2.0</td>\n",
       "      <td>6.0</td>\n",
       "      <td>45.0</td>\n",
       "    </tr>\n",
       "    <tr>\n",
       "      <th>2594</th>\n",
       "      <td>48.0</td>\n",
       "      <td>32.0</td>\n",
       "      <td>33.0</td>\n",
       "      <td>23.0</td>\n",
       "      <td>Andrey Rublev</td>\n",
       "      <td>Diego Schwartzman</td>\n",
       "      <td>170.0</td>\n",
       "      <td>4.0</td>\n",
       "      <td>80.0</td>\n",
       "      <td>188.0</td>\n",
       "      <td>15.0</td>\n",
       "      <td>8.0</td>\n",
       "      <td>7.0</td>\n",
       "      <td>1.0</td>\n",
       "      <td>7.0</td>\n",
       "      <td>5.0</td>\n",
       "      <td>10.0</td>\n",
       "      <td>64.0</td>\n",
       "    </tr>\n",
       "    <tr>\n",
       "      <th>2595</th>\n",
       "      <td>47.0</td>\n",
       "      <td>32.0</td>\n",
       "      <td>68.0</td>\n",
       "      <td>44.0</td>\n",
       "      <td>Casper Ruud</td>\n",
       "      <td>Grigor Dimitrov</td>\n",
       "      <td>188.0</td>\n",
       "      <td>3.0</td>\n",
       "      <td>83.0</td>\n",
       "      <td>183.0</td>\n",
       "      <td>19.0</td>\n",
       "      <td>6.0</td>\n",
       "      <td>1.0</td>\n",
       "      <td>4.0</td>\n",
       "      <td>13.0</td>\n",
       "      <td>6.0</td>\n",
       "      <td>12.0</td>\n",
       "      <td>94.0</td>\n",
       "    </tr>\n",
       "    <tr>\n",
       "      <th>2596</th>\n",
       "      <td>56.0</td>\n",
       "      <td>41.0</td>\n",
       "      <td>47.0</td>\n",
       "      <td>34.0</td>\n",
       "      <td>Cameron Norrie</td>\n",
       "      <td>Andrey Rublev</td>\n",
       "      <td>188.0</td>\n",
       "      <td>8.0</td>\n",
       "      <td>93.0</td>\n",
       "      <td>188.0</td>\n",
       "      <td>20.0</td>\n",
       "      <td>9.0</td>\n",
       "      <td>8.0</td>\n",
       "      <td>13.0</td>\n",
       "      <td>24.0</td>\n",
       "      <td>2.0</td>\n",
       "      <td>4.0</td>\n",
       "      <td>86.0</td>\n",
       "    </tr>\n",
       "    <tr>\n",
       "      <th>2597</th>\n",
       "      <td>27.0</td>\n",
       "      <td>20.0</td>\n",
       "      <td>21.0</td>\n",
       "      <td>10.0</td>\n",
       "      <td>Casper Ruud</td>\n",
       "      <td>Cameron Norrie</td>\n",
       "      <td>188.0</td>\n",
       "      <td>1.0</td>\n",
       "      <td>41.0</td>\n",
       "      <td>183.0</td>\n",
       "      <td>9.0</td>\n",
       "      <td>0.0</td>\n",
       "      <td>0.0</td>\n",
       "      <td>1.0</td>\n",
       "      <td>5.0</td>\n",
       "      <td>1.0</td>\n",
       "      <td>6.0</td>\n",
       "      <td>36.0</td>\n",
       "    </tr>\n",
       "  </tbody>\n",
       "</table>\n",
       "<p>14544 rows × 18 columns</p>\n",
       "</div>"
      ],
      "text/plain": [
       "      w_1stIn  w_1stWon  l_1stIn  l_1stWon      winner_name  \\\n",
       "0        24.0      19.0     31.0      20.0     John Millman   \n",
       "1        59.0      39.0     50.0      26.0  Jarkko Nieminen   \n",
       "2        27.0      20.0     37.0      22.0  James Duckworth   \n",
       "3        39.0      31.0     38.0      30.0    Jeremy Chardy   \n",
       "4        79.0      55.0     62.0      40.0    Martin Klizan   \n",
       "...       ...       ...      ...       ...              ...   \n",
       "2593     43.0      33.0     25.0      16.0   Cameron Norrie   \n",
       "2594     48.0      32.0     33.0      23.0    Andrey Rublev   \n",
       "2595     47.0      32.0     68.0      44.0      Casper Ruud   \n",
       "2596     56.0      41.0     47.0      34.0   Cameron Norrie   \n",
       "2597     27.0      20.0     21.0      10.0      Casper Ruud   \n",
       "\n",
       "             loser_name  loser_ht  w_ace  w_svpt  winner_ht  w_2ndWon  \\\n",
       "0        Rhyne Williams       NaN    6.0    44.0      183.0      14.0   \n",
       "1           Denis Kudla     180.0    4.0    92.0      185.0      17.0   \n",
       "2          Gilles Simon     183.0    4.0    45.0      183.0      11.0   \n",
       "3        Andrey Golubev     185.0    7.0    53.0      188.0      11.0   \n",
       "4         Jurgen Melzer     183.0    9.0   130.0      190.0      27.0   \n",
       "...                 ...       ...    ...     ...        ...       ...   \n",
       "2593   Denis Shapovalov     185.0    1.0    54.0      188.0       4.0   \n",
       "2594  Diego Schwartzman     170.0    4.0    80.0      188.0      15.0   \n",
       "2595    Grigor Dimitrov     188.0    3.0    83.0      183.0      19.0   \n",
       "2596      Andrey Rublev     188.0    8.0    93.0      188.0      20.0   \n",
       "2597     Cameron Norrie     188.0    1.0    41.0      183.0       9.0   \n",
       "\n",
       "      w_bpFaced  w_bpSaved  l_ace  l_2ndWon  l_bpSaved  l_bpFaced  l_svpt  \n",
       "0           1.0        1.0    3.0       5.0        1.0        5.0    50.0  \n",
       "1           7.0        4.0    6.0      19.0        3.0        8.0    83.0  \n",
       "2           3.0        2.0    2.0       5.0       10.0       15.0    56.0  \n",
       "3           0.0        0.0    9.0       8.0        1.0        3.0    57.0  \n",
       "4           8.0        6.0    4.0      19.0        4.0        8.0    95.0  \n",
       "...         ...        ...    ...       ...        ...        ...     ...  \n",
       "2593        1.0        1.0    3.0       7.0        2.0        6.0    45.0  \n",
       "2594        8.0        7.0    1.0       7.0        5.0       10.0    64.0  \n",
       "2595        6.0        1.0    4.0      13.0        6.0       12.0    94.0  \n",
       "2596        9.0        8.0   13.0      24.0        2.0        4.0    86.0  \n",
       "2597        0.0        0.0    1.0       5.0        1.0        6.0    36.0  \n",
       "\n",
       "[14544 rows x 18 columns]"
      ]
     },
     "execution_count": 187,
     "metadata": {},
     "output_type": "execute_result"
    }
   ],
   "source": [
    "data"
   ]
  },
  {
   "cell_type": "markdown",
   "id": "7623e44e-abc0-443c-8808-d337763f0925",
   "metadata": {},
   "source": [
    "First I will just look to see what columns have missing data in it so I know what parts of the table I need to look deeper into. I will then find ways to fill in any missing data."
   ]
  },
  {
   "cell_type": "code",
   "execution_count": 188,
   "id": "97dc8f2e-a3d5-4434-8d35-280686381a73",
   "metadata": {},
   "outputs": [
    {
     "name": "stdout",
     "output_type": "stream",
     "text": [
      "w_1stIn\n",
      "w_1stWon\n",
      "l_1stIn\n",
      "l_1stWon\n",
      "loser_ht\n",
      "w_ace\n",
      "w_svpt\n",
      "winner_ht\n",
      "w_2ndWon\n",
      "w_bpFaced\n",
      "w_bpSaved\n",
      "l_ace\n",
      "l_2ndWon\n",
      "l_bpSaved\n",
      "l_bpFaced\n",
      "l_svpt\n"
     ]
    }
   ],
   "source": [
    "for column in data.columns:\n",
    "    if len(data[data[column].isna() == True]) != 0 :\n",
    "        print(column)\n",
    "        "
   ]
  },
  {
   "cell_type": "markdown",
   "id": "1ec5e9d5-0eef-454c-9b0e-96bab74c7dd4",
   "metadata": {},
   "source": [
    "It seems that all of the columns have some amount of missing data. First part of the missing data I will address is the heights of the players since that is one of the main features of the players I am focusing on. Luckly https://www.atptour.com/ gives the heights of all the players that play on tour, so I will write all the names down with missing heights into a csv file and then manually enter in the height data for each player. Then I can load in the data back into pandas and enter it into the data. One player I did not find the heigth of on atptour was Flavio Cobolli, who I had to find a seperate bio to fill in his height data. I will start off by doing this for missing winner heights and then loser heights assuming there will be cross over and this will stop names from being printed twice. When I did this there was 140 players whose heights needed to be filled in for the winners alone. I have put the csv file PlayersNames.csv in the repository, incase you want to repeat what I have done, so you do not have to enter in all that data yourself."
   ]
  },
  {
   "cell_type": "code",
   "execution_count": 7,
   "id": "a2db5677-243e-4460-a1cd-c160c357058d",
   "metadata": {},
   "outputs": [
    {
     "ename": "PermissionError",
     "evalue": "[Errno 13] Permission denied: 'PlayerNames.csv'",
     "output_type": "error",
     "traceback": [
      "\u001b[0;31m---------------------------------------------------------------------------\u001b[0m",
      "\u001b[0;31mPermissionError\u001b[0m                           Traceback (most recent call last)",
      "Input \u001b[0;32mIn [7]\u001b[0m, in \u001b[0;36m<module>\u001b[0;34m\u001b[0m\n\u001b[0;32m----> 1\u001b[0m file \u001b[38;5;241m=\u001b[39m \u001b[38;5;28;43mopen\u001b[39;49m\u001b[43m(\u001b[49m\u001b[38;5;124;43m'\u001b[39;49m\u001b[38;5;124;43mPlayerNames.csv\u001b[39;49m\u001b[38;5;124;43m'\u001b[39;49m\u001b[43m,\u001b[49m\u001b[38;5;124;43m'\u001b[39;49m\u001b[38;5;124;43mw\u001b[39;49m\u001b[38;5;124;43m'\u001b[39;49m\u001b[43m)\u001b[49m\n\u001b[1;32m      2\u001b[0m writer \u001b[38;5;241m=\u001b[39m csv\u001b[38;5;241m.\u001b[39mwriter(file)\n\u001b[1;32m      3\u001b[0m \u001b[38;5;28;01mfor\u001b[39;00m name \u001b[38;5;129;01min\u001b[39;00m np\u001b[38;5;241m.\u001b[39munique(data[data[\u001b[38;5;124m'\u001b[39m\u001b[38;5;124mwinner_ht\u001b[39m\u001b[38;5;124m'\u001b[39m]\u001b[38;5;241m.\u001b[39misna() \u001b[38;5;241m==\u001b[39m \u001b[38;5;28;01mTrue\u001b[39;00m][\u001b[38;5;124m'\u001b[39m\u001b[38;5;124mwinner_name\u001b[39m\u001b[38;5;124m'\u001b[39m]):\n",
      "\u001b[0;31mPermissionError\u001b[0m: [Errno 13] Permission denied: 'PlayerNames.csv'"
     ]
    }
   ],
   "source": [
    "file = open('PlayerNames23.csv','w')\n",
    "writer = csv.writer(file)\n",
    "for name in np.unique(data[data['winner_ht'].isna() == True]['winner_name']):\n",
    "    writer.writerow([name])\n",
    "file.close()"
   ]
  },
  {
   "cell_type": "markdown",
   "id": "5ce40ec9-3e7c-4818-be24-e63c089cf1ae",
   "metadata": {},
   "source": [
    "While going through the names to add in the height I found one mistake where Alejandro Gomez was named as Alejandro Gomez Gb42. I have verified that these are refering to the same player and that Alejandro Gomez Gb42 is not another player."
   ]
  },
  {
   "cell_type": "code",
   "execution_count": 189,
   "id": "9f77281e-3d89-47f9-8f6d-c9a3dd216ae7",
   "metadata": {},
   "outputs": [],
   "source": [
    "# Name was put in wrong on some entries, I did verify these were refering to the same man\n",
    "data.loc[data['winner_name'] == 'Alejandro Gomez Gb42','winner_name'] = 'Alejandro Gomez'\n",
    "data.loc[data['loser_name'] == 'Alejandro Gomez Gb42','loser_name'] = 'Alejandro Gomez'"
   ]
  },
  {
   "cell_type": "code",
   "execution_count": 190,
   "id": "4fa22ffa-26d5-488c-ac71-284a7c355080",
   "metadata": {},
   "outputs": [],
   "source": [
    "heights = pd.read_csv('PlayerNames.csv')\n",
    "for name in np.unique(data[data['winner_ht'].isna() == True]['winner_name']):\n",
    "    data.loc[data['winner_name'] == name, 'winner_ht'] = int(heights.loc[heights['Name'] == name,'HT'])\n",
    "    data.loc[data['loser_name'] == name, 'loser_ht'] = int(heights.loc[heights['Name'] == name,'HT'])"
   ]
  },
  {
   "cell_type": "code",
   "execution_count": 191,
   "id": "3c4779f5-6294-4294-ad7f-d13232dd3e21",
   "metadata": {},
   "outputs": [],
   "source": [
    "file2 = open('PlayerNames21.csv','w')\n",
    "writer = csv.writer(file2)\n",
    "for name in np.unique(data[data['loser_ht'].isna() == True]['loser_name']):\n",
    "    writer.writerow([name])\n",
    "file2.close()"
   ]
  },
  {
   "cell_type": "markdown",
   "id": "739f07e9-9493-462f-b34c-c1deab6377d8",
   "metadata": {},
   "source": [
    "For the players that I could not find there height reported on the atp tour site or anywhere else I filled in the average losing height, since this is the list of losing players missing height and any that won would have been filled in earlier, as my imputation technique. The 8 players below were the only 8 I could not find anything on. For the rest I used the atp site again to find their height or for some a google search. There was another 123 players to have their hieghts filled."
   ]
  },
  {
   "cell_type": "code",
   "execution_count": 196,
   "id": "bc67621e-03e2-4d5d-baad-96f48cc4d986",
   "metadata": {},
   "outputs": [],
   "source": [
    "avgHt = round(np.average(np.array(data[data['loser_ht'].isna() == False]['loser_ht'])))\n",
    "data.loc[data['loser_name'] == 'Adrien Bossel', 'loser_ht'] = float(avgHt)\n",
    "data.loc[data['loser_name'] == 'Alexios Halebian', 'loser_ht'] = float(avgHt)\n",
    "data.loc[data['loser_name'] == 'Anil Yuksel','loser_ht'] = float(avgHt)\n",
    "data.loc[data['loser_name'] == 'Brian Shi','loser_ht'] = float(avgHt)\n",
    "data.loc[data['loser_name'] == 'Mubarak Shannan Zayid','loser_ht'] = float(avgHt)\n",
    "data.loc[data['loser_name'] == 'Riccardo Bellotti','loser_ht'] = float(avgHt)\n",
    "data.loc[data['loser_name'] == 'Yassine Idmbarek','loser_ht'] = float(avgHt) \n",
    "data.loc[data['loser_name'] == 'Omar Awadhy','loser_ht'] = float(avgHt)"
   ]
  },
  {
   "cell_type": "code",
   "execution_count": 197,
   "id": "7b8422b3-76d2-42c3-8c29-59c5d5d9e514",
   "metadata": {},
   "outputs": [],
   "source": [
    "heights = pd.read_csv('PlayerNames2.csv')\n",
    "for name in np.unique(data[data['loser_ht'].isna() == True]['loser_name']):\n",
    "    data.loc[data['loser_name'] == name, 'loser_ht'] = int(heights.loc[heights['Name'] == name,'HT'])"
   ]
  },
  {
   "cell_type": "markdown",
   "id": "9930b4e8-a5c2-4928-b09d-af6203058f71",
   "metadata": {},
   "source": [
    "Now I am going to fill in the missing data for the rest of the columns. These columns consist of 1st serve in for both winners and losers,1st serve won for both, aces, 2nd serves won, number of service points, break points faced and saved. The way I am going to do this is, for each player that is missing a value in one of these categories, I will calculate there average value of the statistic for when then lose or win respectively and then fill the missing value in as the average for that player. I choose to round the average since a decimal doesnt make sense as an entry for these statistics only a whole number would make sense."
   ]
  },
  {
   "cell_type": "code",
   "execution_count": 201,
   "id": "ac34b3f9-fb97-4ad4-9afe-90c30d768f8f",
   "metadata": {},
   "outputs": [],
   "source": [
    "columnNames = ['1stIn','1stWon','ace','svpt','bpFaced','bpSaved','2ndWon']\n",
    "for col in columnNames:\n",
    "    for name in np.unique(data[data['w_'+col].isna() == True]['winner_name']):\n",
    "        playerdata = data[data['winner_name'] == name]\n",
    "        playerdata = playerdata[playerdata['w_'+col].isna() == False]\n",
    "        avg = np.average(playerdata['w_'+col])\n",
    "        data.loc[(data['winner_name'] == name) & (data['w_'+col].isna()==True),'w_'+col] = np.round(avg)\n",
    "\n",
    "    for name in np.unique(data[data['l_'+col].isna() == True]['loser_name']):\n",
    "        playerdata = data[data['loser_name'] == name]\n",
    "        playerdata = playerdata[playerdata['l_'+col].isna() == False]\n",
    "        avg = np.average(playerdata['l_'+col])\n",
    "        data.loc[(data['loser_name'] == name) & (data['l_'+col].isna()==True),'l_'+col] = np.round(avg)"
   ]
  },
  {
   "cell_type": "code",
   "execution_count": null,
   "id": "2a943684-8ff8-4fd5-bfbd-663f44d29709",
   "metadata": {},
   "outputs": [],
   "source": []
  },
  {
   "cell_type": "code",
   "execution_count": 199,
   "id": "abf082d8-24d6-45f3-82f3-78b879b4ba98",
   "metadata": {},
   "outputs": [
    {
     "name": "stdout",
     "output_type": "stream",
     "text": [
      "l_1stIn\n",
      "l_1stWon\n",
      "l_ace\n",
      "l_2ndWon\n",
      "l_bpSaved\n",
      "l_bpFaced\n",
      "l_svpt\n"
     ]
    }
   ],
   "source": [
    "for column in data.columns:\n",
    "    if len(data[data[column].isna() == True]) != 0 :\n",
    "        print(column)"
   ]
  },
  {
   "cell_type": "markdown",
   "id": "2bcececb-e71a-4443-921c-c7c41873d199",
   "metadata": {},
   "source": [
    "As seen above there is missing data in all of the columns associated with the loser. In fact they were all refering to the same observation. I choose to just remove this oberservation from the table because all of the information was missing for that match, and for the losing player it was his only appearance in all of the data. Instead of having a match of completely estimated data I thought it best to just remove this one match. Since all the data was missing other than the names I thought it would be better to remove it since your not really losing any extra data other then the names."
   ]
  },
  {
   "cell_type": "code",
   "execution_count": 200,
   "id": "140843a7-9b83-4037-91d8-ac080c33e25e",
   "metadata": {},
   "outputs": [],
   "source": [
    "data = data[data['l_1stIn'].isna() == False]"
   ]
  },
  {
   "cell_type": "code",
   "execution_count": 205,
   "id": "1bac8de3-99a4-4902-9b0e-8a4f9788bf60",
   "metadata": {},
   "outputs": [
    {
     "data": {
      "text/html": [
       "<div>\n",
       "<style scoped>\n",
       "    .dataframe tbody tr th:only-of-type {\n",
       "        vertical-align: middle;\n",
       "    }\n",
       "\n",
       "    .dataframe tbody tr th {\n",
       "        vertical-align: top;\n",
       "    }\n",
       "\n",
       "    .dataframe thead th {\n",
       "        text-align: right;\n",
       "    }\n",
       "</style>\n",
       "<table border=\"1\" class=\"dataframe\">\n",
       "  <thead>\n",
       "    <tr style=\"text-align: right;\">\n",
       "      <th></th>\n",
       "      <th>w_1stIn</th>\n",
       "      <th>w_1stWon</th>\n",
       "      <th>l_1stIn</th>\n",
       "      <th>l_1stWon</th>\n",
       "      <th>winner_name</th>\n",
       "      <th>loser_name</th>\n",
       "      <th>loser_ht</th>\n",
       "      <th>w_ace</th>\n",
       "      <th>w_svpt</th>\n",
       "      <th>winner_ht</th>\n",
       "      <th>w_2ndWon</th>\n",
       "      <th>w_bpFaced</th>\n",
       "      <th>w_bpSaved</th>\n",
       "      <th>l_ace</th>\n",
       "      <th>l_2ndWon</th>\n",
       "      <th>l_bpSaved</th>\n",
       "      <th>l_bpFaced</th>\n",
       "      <th>l_svpt</th>\n",
       "    </tr>\n",
       "  </thead>\n",
       "  <tbody>\n",
       "    <tr>\n",
       "      <th>2612</th>\n",
       "      <td>0.0</td>\n",
       "      <td>0.0</td>\n",
       "      <td>5.0</td>\n",
       "      <td>3.0</td>\n",
       "      <td>Yuichi Sugita</td>\n",
       "      <td>Milos Raonic</td>\n",
       "      <td>196.0</td>\n",
       "      <td>0.0</td>\n",
       "      <td>0.0</td>\n",
       "      <td>173.0</td>\n",
       "      <td>0.0</td>\n",
       "      <td>0.0</td>\n",
       "      <td>0.0</td>\n",
       "      <td>0.0</td>\n",
       "      <td>0.0</td>\n",
       "      <td>2.0</td>\n",
       "      <td>3.0</td>\n",
       "      <td>8.0</td>\n",
       "    </tr>\n",
       "  </tbody>\n",
       "</table>\n",
       "</div>"
      ],
      "text/plain": [
       "      w_1stIn  w_1stWon  l_1stIn  l_1stWon    winner_name    loser_name  \\\n",
       "2612      0.0       0.0      5.0       3.0  Yuichi Sugita  Milos Raonic   \n",
       "\n",
       "      loser_ht  w_ace  w_svpt  winner_ht  w_2ndWon  w_bpFaced  w_bpSaved  \\\n",
       "2612     196.0    0.0     0.0      173.0       0.0        0.0        0.0   \n",
       "\n",
       "      l_ace  l_2ndWon  l_bpSaved  l_bpFaced  l_svpt  \n",
       "2612    0.0       0.0        2.0        3.0     8.0  "
      ]
     },
     "execution_count": 205,
     "metadata": {},
     "output_type": "execute_result"
    }
   ],
   "source": [
    "data[data['w_svpt']==0]"
   ]
  },
  {
   "cell_type": "markdown",
   "id": "215a8d95-4d1e-407e-aa51-489566d1c353",
   "metadata": {},
   "source": [
    "Now that I have filled in all the missing data the table is ready for analysis and make calculations. I will use the data in the table to calculate 7 different statistics for all the players. Four will be service statistics and the other three will be return statistics. I will calculate the first serve percent, which is the percent of first serves that are in. Then I will calculate both the first serve and second serve win percent, which is how many points they are winning of there serves. A double fault,when second serve goes out, will count to losing a second serve point. Finally for serve I will calculate the pertenage of serves that are aces. Now for the return statistics I will calculate the total number of break chances they had, when they were one point away from winning a game on return. The break points won percent, of the chances they had how many did they win. For this statistic I decided if they had 0 break point chances then the percent would also be zero, since if they never get a break chance they aren't being very successful at returning so the percent should reflect that. Then just the total return point won percent."
   ]
  },
  {
   "cell_type": "code",
   "execution_count": 257,
   "id": "a76d0bf7-7edb-43ac-a806-0188b555f9c3",
   "metadata": {},
   "outputs": [],
   "source": [
    "players = np.unique(np.append(data['winner_name'],data['loser_name']))\n",
    "winrates = []\n",
    "firstPercents = []\n",
    "heights = []\n",
    "firstWRates = []\n",
    "secWinRate = []\n",
    "aceRate = []\n",
    "bpChances = []\n",
    "bpWinPer = []\n",
    "winReturnPercents = []\n",
    "for player in players:\n",
    "    #this adds the heights of all the player to height\n",
    "    heights.append(int(np.unique(np.append(\n",
    "        data[data['winner_name']==player]['winner_ht'],data[data['loser_name']==player]['loser_ht']))))\n",
    "    #this next section calculate the 1st serve percent for each player\n",
    "    windata = data[data['winner_name']==player]\n",
    "    losedata = data[data['loser_name']==player]\n",
    "    winrate = len(windata)/(len(windata)+len(losedata))\n",
    "    winServesIn = np.sum(windata['w_1stIn'])\n",
    "    winServes = np.sum(windata['w_svpt'])\n",
    "    if winServesIn == None:\n",
    "        winServesIn = 0\n",
    "    if winServes == None:\n",
    "        winServes = 0\n",
    "    loseServesIn = np.sum(losedata['l_1stIn'])\n",
    "    loseServes = np.sum(losedata['l_svpt'])\n",
    "    if loseServesIn == np.nan:\n",
    "        loseServesIn = 0\n",
    "    if loseServes == np.nan:\n",
    "        loseServes = 0\n",
    "    firstPercent = (winServesIn +loseServesIn)/(winServes+loseServes)\n",
    "    firstPercents.append(firstPercent)\n",
    "    \n",
    "    #Now I am going to calculate the first and second serve win rate.\n",
    "    firstWRate = (np.sum(windata['w_1stWon']) + np.sum(losedata['l_1stWon']))/(winServesIn + loseServesIn)\n",
    "    firstWRates.append(firstWRate)\n",
    "    secServes = (winServes - winServesIn) + (loseServes - loseServesIn)\n",
    "    secWinPer = (np.sum(windata['w_2ndWon'])+np.sum(losedata['l_2ndWon']))/secServes\n",
    "    secWinRate.append(secWinPer)\n",
    "    \n",
    "    #Now I will calculate the ace rate\n",
    "    acePer = (np.sum(windata['w_ace']) + np.sum(losedata['l_ace']))/(winServes + loseServes)\n",
    "    aceRate.append(acePer)\n",
    "    \n",
    "    #Now will calculate the return stats for players\n",
    "    #starting with break point chances.\n",
    "    breakpoints = np.sum(windata['l_bpFaced']) + np.sum(losedata['w_bpFaced'])\n",
    "    bpChances.append(breakpoints)\n",
    "    \n",
    "    #There were some matches with no break points so can't divide by 0\n",
    "    #Choose to append 0 as percent since if you got no break point chances\n",
    "    #you weren't returning well so should have a percent to reflect that.\n",
    "    if breakpoints == 0:\n",
    "        bpWinPer.append(0)\n",
    "    else:\n",
    "        bpPercent = (breakpoints - (np.sum(windata['l_bpSaved']) + np.sum(losedata['w_bpSaved'])))/breakpoints\n",
    "        bpWinPer.append(bpPercent)\n",
    "    \n",
    "    returnWinper = (np.sum(windata['l_svpt'])-(np.sum(windata['l_1stWon']) + np.sum(windata['l_2ndWon'])) +\n",
    "                np.sum(losedata['w_svpt'])-(np.sum(losedata['w_1stWon']) + np.sum(losedata['w_2ndWon'])))\n",
    "    returnWinper = returnWinper/(np.sum(windata['l_svpt']) + np.sum(losedata['w_svpt']))\n",
    "    \n",
    "    winReturnPercents.append(returnWinper)       \n",
    "    \n",
    "    "
   ]
  },
  {
   "cell_type": "code",
   "execution_count": 255,
   "id": "e91968af-1ab3-48a5-bf59-56bf027d20f5",
   "metadata": {},
   "outputs": [
    {
     "data": {
      "text/html": [
       "<div>\n",
       "<style scoped>\n",
       "    .dataframe tbody tr th:only-of-type {\n",
       "        vertical-align: middle;\n",
       "    }\n",
       "\n",
       "    .dataframe tbody tr th {\n",
       "        vertical-align: top;\n",
       "    }\n",
       "\n",
       "    .dataframe thead th {\n",
       "        text-align: right;\n",
       "    }\n",
       "</style>\n",
       "<table border=\"1\" class=\"dataframe\">\n",
       "  <thead>\n",
       "    <tr style=\"text-align: right;\">\n",
       "      <th></th>\n",
       "      <th>w_1stIn</th>\n",
       "      <th>w_1stWon</th>\n",
       "      <th>l_1stIn</th>\n",
       "      <th>l_1stWon</th>\n",
       "      <th>winner_name</th>\n",
       "      <th>loser_name</th>\n",
       "      <th>loser_ht</th>\n",
       "      <th>w_ace</th>\n",
       "      <th>w_svpt</th>\n",
       "      <th>winner_ht</th>\n",
       "      <th>w_2ndWon</th>\n",
       "      <th>w_bpFaced</th>\n",
       "      <th>w_bpSaved</th>\n",
       "      <th>l_ace</th>\n",
       "      <th>l_2ndWon</th>\n",
       "      <th>l_bpSaved</th>\n",
       "      <th>l_bpFaced</th>\n",
       "      <th>l_svpt</th>\n",
       "    </tr>\n",
       "  </thead>\n",
       "  <tbody>\n",
       "    <tr>\n",
       "      <th>1789</th>\n",
       "      <td>51.0</td>\n",
       "      <td>41.0</td>\n",
       "      <td>39.0</td>\n",
       "      <td>28.0</td>\n",
       "      <td>Dustin Brown</td>\n",
       "      <td>Adrien Bossel</td>\n",
       "      <td>187.0</td>\n",
       "      <td>18.0</td>\n",
       "      <td>73.0</td>\n",
       "      <td>196.0</td>\n",
       "      <td>13.0</td>\n",
       "      <td>2.0</td>\n",
       "      <td>2.0</td>\n",
       "      <td>8.0</td>\n",
       "      <td>20.0</td>\n",
       "      <td>5.0</td>\n",
       "      <td>6.0</td>\n",
       "      <td>75.0</td>\n",
       "    </tr>\n",
       "  </tbody>\n",
       "</table>\n",
       "</div>"
      ],
      "text/plain": [
       "      w_1stIn  w_1stWon  l_1stIn  l_1stWon   winner_name     loser_name  \\\n",
       "1789     51.0      41.0     39.0      28.0  Dustin Brown  Adrien Bossel   \n",
       "\n",
       "      loser_ht  w_ace  w_svpt  winner_ht  w_2ndWon  w_bpFaced  w_bpSaved  \\\n",
       "1789     187.0   18.0    73.0      196.0      13.0        2.0        2.0   \n",
       "\n",
       "      l_ace  l_2ndWon  l_bpSaved  l_bpFaced  l_svpt  \n",
       "1789    8.0      20.0        5.0        6.0    75.0  "
      ]
     },
     "execution_count": 255,
     "metadata": {},
     "output_type": "execute_result"
    }
   ],
   "source": [
    "data[data['loser_name'] == 'Adrien Bossel']"
   ]
  },
  {
   "cell_type": "code",
   "execution_count": 254,
   "id": "2700bf27-f759-4b7a-b094-74f97cec68b3",
   "metadata": {},
   "outputs": [
    {
     "data": {
      "text/plain": [
       "'Adrien Bossel'"
      ]
     },
     "execution_count": 254,
     "metadata": {},
     "output_type": "execute_result"
    }
   ],
   "source": [
    "players[5]"
   ]
  },
  {
   "cell_type": "code",
   "execution_count": 260,
   "id": "ad14b90c-c3bb-486a-8d84-903306b72694",
   "metadata": {},
   "outputs": [
    {
     "data": {
      "text/plain": [
       "580"
      ]
     },
     "execution_count": 260,
     "metadata": {},
     "output_type": "execute_result"
    }
   ],
   "source": [
    "len(winReturnPercents)"
   ]
  },
  {
   "cell_type": "code",
   "execution_count": null,
   "id": "d1c86710-e78f-40a4-a86c-67fe278c88bc",
   "metadata": {},
   "outputs": [],
   "source": []
  }
 ],
 "metadata": {
  "kernelspec": {
   "display_name": "Python 3 (ipykernel)",
   "language": "python",
   "name": "python3"
  },
  "language_info": {
   "codemirror_mode": {
    "name": "ipython",
    "version": 3
   },
   "file_extension": ".py",
   "mimetype": "text/x-python",
   "name": "python",
   "nbconvert_exporter": "python",
   "pygments_lexer": "ipython3",
   "version": "3.9.7"
  }
 },
 "nbformat": 4,
 "nbformat_minor": 5
}
